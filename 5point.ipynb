{
 "cells": [
  {
   "cell_type": "markdown",
   "id": "c464af42",
   "metadata": {},
   "source": [
    "# check point 5:"
   ]
  },
  {
   "cell_type": "markdown",
   "id": "a3733be9",
   "metadata": {},
   "source": [
    "exercice 1:"
   ]
  },
  {
   "cell_type": "code",
   "execution_count": 5,
   "id": "094ae85d",
   "metadata": {},
   "outputs": [
    {
     "name": "stdout",
     "output_type": "stream",
     "text": [
      "[[2, 3], [4, 5]]\n"
     ]
    }
   ],
   "source": [
    "import numpy as np\n",
    "array=np.array([[2,3],[4,5]])\n",
    "A=array.tolist()\n",
    "print(A)"
   ]
  },
  {
   "cell_type": "markdown",
   "id": "7d218e5a",
   "metadata": {},
   "source": [
    "exercice 2:"
   ]
  },
  {
   "cell_type": "code",
   "execution_count": 79,
   "id": "c1b813cc",
   "metadata": {},
   "outputs": [
    {
     "name": "stdout",
     "output_type": "stream",
     "text": [
      "La matrice de x est :\n",
      "[[1. 2.]\n",
      " [3. 4.]]\n",
      "la matrice de y est :\n",
      "[[5. 6.]\n",
      " [7. 8.]]\n",
      "la diagonale de A et B est : [[1. 4.]] [[5. 8.]]\n",
      "La somme de la diagonale de A et B est [[ 6. 12.]]\n"
     ]
    }
   ],
   "source": [
    "import numpy as np\n",
    "x=np.matrix([[1,2],[3,4]], dtype=np.float64)\n",
    "y=np.matrix([[5,6],[7,8]], dtype=np.float64)\n",
    "A=x.diagonal()\n",
    "B=y.diagonal()\n",
    "C=A+B\n",
    "print(\"La matrice de x est :\")\n",
    "print(x)\n",
    "print(\"la matrice de y est :\")\n",
    "print(y)\n",
    "print(\"la diagonale de A et B est :\",A,B)\n",
    "print(\"La somme de la diagonale de A et B est\",C)"
   ]
  },
  {
   "cell_type": "markdown",
   "id": "e4d09bb2",
   "metadata": {},
   "source": [
    "exercice 3:"
   ]
  },
  {
   "cell_type": "code",
   "execution_count": 131,
   "id": "7633ca3e",
   "metadata": {},
   "outputs": [
    {
     "name": "stdout",
     "output_type": "stream",
     "text": [
      "Input a number : 20\n",
      "Error!!!\n",
      "Input a number : 9\n",
      "Exellent\n"
     ]
    }
   ],
   "source": [
    "import numpy as np\n",
    "n=int(input(\"Input a number : \"))\n",
    "a=np.matrix(np.all(np.array([[10,20],[30,50]])))\n",
    "if n>=10:\n",
    "    print(\"Error!!!\")\n",
    "else:\n",
    "    print(\"Exellent\")  \n",
    "x=int(input(\"Input a number : \"))\n",
    "z=np.matrix(np.all(np.array([[10,20],[30,50]])))\n",
    "if x>=10:\n",
    "    print(\"Error!!!\")\n",
    "else:\n",
    "    print(\"Exellent\")  \n"
   ]
  },
  {
   "cell_type": "markdown",
   "id": "0723ce76",
   "metadata": {},
   "source": [
    "exercice 4:"
   ]
  },
  {
   "cell_type": "code",
   "execution_count": 56,
   "id": "bc9f4515",
   "metadata": {},
   "outputs": [
    {
     "name": "stdout",
     "output_type": "stream",
     "text": [
      "A+B = [[ 5. 11.]\n",
      " [13.  7.]]\n"
     ]
    }
   ],
   "source": [
    "import numpy as np\n",
    "A=np.array([[3,4],[5,6]],dtype=np.float64)\n",
    "B=np.array([[2,7],[8,1]],dtype=np.float64)\n",
    "C=A+B\n",
    "print(\"A+B =\",C)"
   ]
  },
  {
   "cell_type": "markdown",
   "id": "f26a5990",
   "metadata": {},
   "source": [
    "exercice 5:"
   ]
  },
  {
   "cell_type": "code",
   "execution_count": 58,
   "id": "25a1b675",
   "metadata": {},
   "outputs": [
    {
     "name": "stdout",
     "output_type": "stream",
     "text": [
      "A-B = [[1. 3.]\n",
      " [1. 1.]]\n",
      "The mean of E is :  1.5\n"
     ]
    }
   ],
   "source": [
    "import numpy as np\n",
    "A=np.array([[3,7],[7,9]],dtype=np.float64)\n",
    "B=np.array([[2,4],[6,8]],dtype=np.float64)\n",
    "E=A-B\n",
    "print(\"A-B =\",E)\n",
    "print(\"The mean of E is : \",np.mean(E))"
   ]
  },
  {
   "cell_type": "code",
   "execution_count": null,
   "id": "3d87722c",
   "metadata": {},
   "outputs": [],
   "source": []
  },
  {
   "cell_type": "code",
   "execution_count": null,
   "id": "6dcee2f3",
   "metadata": {},
   "outputs": [],
   "source": []
  },
  {
   "cell_type": "code",
   "execution_count": null,
   "id": "e00ad73b",
   "metadata": {},
   "outputs": [],
   "source": []
  },
  {
   "cell_type": "code",
   "execution_count": null,
   "id": "63f38717",
   "metadata": {},
   "outputs": [],
   "source": []
  }
 ],
 "metadata": {
  "kernelspec": {
   "display_name": "Python 3",
   "language": "python",
   "name": "python3"
  },
  "language_info": {
   "codemirror_mode": {
    "name": "ipython",
    "version": 3
   },
   "file_extension": ".py",
   "mimetype": "text/x-python",
   "name": "python",
   "nbconvert_exporter": "python",
   "pygments_lexer": "ipython3",
   "version": "3.8.8"
  }
 },
 "nbformat": 4,
 "nbformat_minor": 5
}
